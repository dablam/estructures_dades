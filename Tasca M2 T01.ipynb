{
 "cells": [
  {
   "cell_type": "markdown",
   "id": "f2c600a5",
   "metadata": {},
   "source": [
    "# EXERCICI 1\n",
    "### · crear una llista agrupant els mesos de l'any en trimertres"
   ]
  },
  {
   "cell_type": "code",
   "execution_count": 1,
   "id": "689f6f7b",
   "metadata": {},
   "outputs": [
    {
     "name": "stdout",
     "output_type": "stream",
     "text": [
      "[('gener', 'febrer', 'març'), ('abril', 'maig', 'juny'), ('juliol', 'agost', 'setembre'), ('octubre', 'novembre', 'desembre')]\n"
     ]
    },
    {
     "data": {
      "text/plain": [
       "list"
      ]
     },
     "execution_count": 1,
     "metadata": {},
     "output_type": "execute_result"
    }
   ],
   "source": [
    "T1 = (\"gener\", \"febrer\", \"març\")\n",
    "T2 = (\"abril\", \"maig\", \"juny\")\n",
    "T3 = (\"juliol\", \"agost\", \"setembre\")\n",
    "T4 = (\"octubre\", \"novembre\", \"desembre\")\n",
    "\n",
    "mesos = list((T1, T2, T3, T4))\n",
    "print(mesos)\n",
    "type(mesos)"
   ]
  },
  {
   "cell_type": "markdown",
   "id": "84962d5e",
   "metadata": {},
   "source": [
    "# EXERCICI 2\n",
    "### · crear un codi que permeti:"
   ]
  },
  {
   "cell_type": "code",
   "execution_count": 2,
   "id": "d8a19ac1",
   "metadata": {},
   "outputs": [
    {
     "name": "stdout",
     "output_type": "stream",
     "text": [
      "febrer\n"
     ]
    }
   ],
   "source": [
    "# accés a febrer\n",
    "\n",
    "print(T1[1])\n"
   ]
  },
  {
   "cell_type": "code",
   "execution_count": 3,
   "id": "a9046f42",
   "metadata": {},
   "outputs": [
    {
     "name": "stdout",
     "output_type": "stream",
     "text": [
      "('gener', 'febrer', 'març')\n"
     ]
    }
   ],
   "source": [
    "# accés als mesos del primer trimestre\n",
    "\n",
    "print(T1[:])"
   ]
  },
  {
   "cell_type": "code",
   "execution_count": 4,
   "id": "5735e65d",
   "metadata": {},
   "outputs": [
    {
     "name": "stdout",
     "output_type": "stream",
     "text": [
      "setembre octubre\n"
     ]
    }
   ],
   "source": [
    "# accés a setembre i octubre\n",
    "\n",
    "print (T3[2], T4[0])"
   ]
  },
  {
   "cell_type": "markdown",
   "id": "78a43cf4",
   "metadata": {},
   "source": [
    "# EXERCICI 3\n",
    "### · crear una llista amb nombres desordenats"
   ]
  },
  {
   "cell_type": "code",
   "execution_count": 5,
   "id": "5c5f88c8",
   "metadata": {},
   "outputs": [
    {
     "name": "stdout",
     "output_type": "stream",
     "text": [
      "[2, 23, 7, 45, 34, 46, 32, 0, 9, 4, 42, 27, 29]\n"
     ]
    },
    {
     "data": {
      "text/plain": [
       "list"
      ]
     },
     "execution_count": 5,
     "metadata": {},
     "output_type": "execute_result"
    }
   ],
   "source": [
    "#creació d'una llista amb números aleatoris.\n",
    "\n",
    "import random\n",
    "random_numbers = random.sample (range(49), 13)\n",
    "print(random_numbers)\n",
    "type(random_numbers)"
   ]
  },
  {
   "cell_type": "code",
   "execution_count": 6,
   "id": "3452573d",
   "metadata": {},
   "outputs": [
    {
     "name": "stdout",
     "output_type": "stream",
     "text": [
      "13\n"
     ]
    }
   ],
   "source": [
    "# quantitat de números.\n",
    "\n",
    "print(len(random_numbers))"
   ]
  },
  {
   "cell_type": "code",
   "execution_count": 7,
   "id": "63a6eb1b",
   "metadata": {},
   "outputs": [
    {
     "name": "stdout",
     "output_type": "stream",
     "text": [
      "0\n",
      "1\n"
     ]
    }
   ],
   "source": [
    "# quantes vegades apareix el 3?\n",
    "\n",
    "x = random_numbers.count(3)\n",
    "print(x)\n",
    "\n",
    "# quantes vegades apareix el 4?\n",
    "\n",
    "y = random_numbers.count(4)\n",
    "print(y)\n"
   ]
  },
  {
   "cell_type": "code",
   "execution_count": 8,
   "id": "8fc3bc1f",
   "metadata": {},
   "outputs": [
    {
     "name": "stdout",
     "output_type": "stream",
     "text": [
      "46\n"
     ]
    }
   ],
   "source": [
    "# quin és el número més gran?\n",
    "\n",
    "max_value = max(random_numbers)\n",
    "print(max_value)"
   ]
  },
  {
   "cell_type": "code",
   "execution_count": 9,
   "id": "1d5fa39b",
   "metadata": {},
   "outputs": [
    {
     "name": "stdout",
     "output_type": "stream",
     "text": [
      "[0, 2, 4]\n",
      "[2, 4, 7]\n"
     ]
    }
   ],
   "source": [
    "# els 3 números més petits\n",
    "\n",
    "random_numbers.sort()\n",
    "print(random_numbers[:3])\n",
    "\n",
    "min_values = sorted(i for i in random_numbers if i!=0) #funciona si existeix el zero?\n",
    "print (min_values[:3])\n"
   ]
  },
  {
   "cell_type": "code",
   "execution_count": 10,
   "id": "05d88a40",
   "metadata": {},
   "outputs": [
    {
     "name": "stdout",
     "output_type": "stream",
     "text": [
      "0\n",
      "2\n",
      "4\n",
      "7\n",
      "9\n",
      "23\n",
      "27\n",
      "29\n",
      "32\n",
      "34\n",
      "42\n",
      "45\n",
      "46\n"
     ]
    }
   ],
   "source": [
    "# rang de la llista\n",
    "\n",
    "for i in range(len(random_numbers)):\n",
    "  print(random_numbers[i]) "
   ]
  },
  {
   "cell_type": "markdown",
   "id": "60aad0b6",
   "metadata": {},
   "source": [
    "# EXERCICI 4\n",
    "### · crear un diccionari \"compra = { \"Pomes\" : {\"Qty\": 5, \"€\": 0.42}, \"Peres\" : {\"Qty\": 3, \"€\": 0.66} }\""
   ]
  },
  {
   "cell_type": "code",
   "execution_count": 11,
   "id": "f21376dc",
   "metadata": {},
   "outputs": [
    {
     "name": "stdout",
     "output_type": "stream",
     "text": [
      "{'Pomes': {'Qty': 5, '€': 0.42}, 'Peres': {'Qty': 3, '€': 0.66}}\n",
      "<class 'dict'>\n"
     ]
    }
   ],
   "source": [
    "# crear diccionari\n",
    "\n",
    "compra = { \n",
    "    \"Pomes\" : {\n",
    "        \"Qty\": 5, \n",
    "        \"€\": 0.42\n",
    "    }, \n",
    "    \"Peres\" : {\n",
    "        \"Qty\": 3, \n",
    "        \"€\": 0.66\n",
    "    }\n",
    "}\n",
    "print(compra)\n",
    "print(type(compra))"
   ]
  },
  {
   "cell_type": "code",
   "execution_count": 12,
   "id": "045268b0",
   "metadata": {},
   "outputs": [
    {
     "name": "stdout",
     "output_type": "stream",
     "text": [
      "dict_keys(['Pomes', 'Peres', 'Platans', 'Alvocats', 'Tomaquets'])\n",
      "dict_values([{'Qty': 5, '€': 0.42}, {'Qty': 3, '€': 0.66}, {'Qty': 3, '€': 0.53}, {'Qty': 2, '€': 1.47}, {'Qty': 7, '€': 1.13}])\n",
      "dict_items([('Pomes', {'Qty': 5, '€': 0.42}), ('Peres', {'Qty': 3, '€': 0.66}), ('Platans', {'Qty': 3, '€': 0.53}), ('Alvocats', {'Qty': 2, '€': 1.47}), ('Tomaquets', {'Qty': 7, '€': 1.13})])\n"
     ]
    }
   ],
   "source": [
    "# afegir alguna fruita\n",
    "\n",
    "compra.update({ \n",
    "    \"Platans\" : {\n",
    "        \"Qty\": 3, \n",
    "        \"€\": 0.53\n",
    "    }, \n",
    "    \"Alvocats\" : {\n",
    "        \"Qty\": 2, \n",
    "        \"€\": 1.47\n",
    "    },\n",
    "    \"Tomaquets\" : {\n",
    "        \"Qty\": 7, \n",
    "        \"€\": 1.13\n",
    "    }\n",
    "})\n",
    "\n",
    "s = compra.keys()\n",
    "print(s)\n",
    "\n",
    "v = compra.values()\n",
    "print(v)\n",
    "\n",
    "t = compra.items()\n",
    "print(t)"
   ]
  },
  {
   "cell_type": "code",
   "execution_count": 13,
   "id": "10903da3",
   "metadata": {},
   "outputs": [
    {
     "name": "stdout",
     "output_type": "stream",
     "text": [
      "{'Qty': 3, '€': 0.66}\n"
     ]
    }
   ],
   "source": [
    "# cost total peres\n",
    "\n",
    "x = compra[\"Peres\"]\n",
    "print(x) "
   ]
  },
  {
   "cell_type": "code",
   "execution_count": 14,
   "id": "c6fa0329",
   "metadata": {},
   "outputs": [
    {
     "name": "stdout",
     "output_type": "stream",
     "text": [
      "dict_keys(['Pomes', 'Peres', 'Platans', 'Alvocats', 'Tomaquets'])\n"
     ]
    }
   ],
   "source": [
    "# total fruites comprades\n",
    "\n",
    "s = compra.keys()\n",
    "print(s)"
   ]
  },
  {
   "cell_type": "code",
   "execution_count": 15,
   "id": "24520328",
   "metadata": {},
   "outputs": [
    {
     "name": "stdout",
     "output_type": "stream",
     "text": [
      "None\n"
     ]
    }
   ],
   "source": [
    "# fruita més cara\n",
    "\n",
    "m = compra.get(max(\"€\"))\n",
    "print(m)"
   ]
  },
  {
   "cell_type": "code",
   "execution_count": 16,
   "id": "2e0b2d84",
   "metadata": {},
   "outputs": [
    {
     "name": "stdout",
     "output_type": "stream",
     "text": [
      "€\n",
      "€\n",
      "€\n",
      "€\n",
      "€\n"
     ]
    }
   ],
   "source": [
    "for y in compra:\n",
    "    print(max(compra[y]))"
   ]
  },
  {
   "cell_type": "code",
   "execution_count": 17,
   "id": "50babb81",
   "metadata": {},
   "outputs": [
    {
     "ename": "KeyError",
     "evalue": "'€'",
     "output_type": "error",
     "traceback": [
      "\u001b[0;31m---------------------------------------------------------------------------\u001b[0m",
      "\u001b[0;31mKeyError\u001b[0m                                  Traceback (most recent call last)",
      "Input \u001b[0;32mIn [17]\u001b[0m, in \u001b[0;36m<cell line: 1>\u001b[0;34m()\u001b[0m\n\u001b[0;32m----> 1\u001b[0m m \u001b[38;5;241m=\u001b[39m \u001b[38;5;28mmax\u001b[39m(\u001b[43mcompra\u001b[49m\u001b[43m[\u001b[49m\u001b[38;5;124;43m\"\u001b[39;49m\u001b[38;5;124;43m€\u001b[39;49m\u001b[38;5;124;43m\"\u001b[39;49m\u001b[43m]\u001b[49m)\n\u001b[1;32m      2\u001b[0m \u001b[38;5;28mprint\u001b[39m(m)\n",
      "\u001b[0;31mKeyError\u001b[0m: '€'"
     ]
    }
   ],
   "source": [
    "m = max(compra[\"€\"])\n",
    "print(m)"
   ]
  },
  {
   "cell_type": "code",
   "execution_count": 18,
   "id": "ddc812a8",
   "metadata": {},
   "outputs": [
    {
     "name": "stdout",
     "output_type": "stream",
     "text": [
      "€\n"
     ]
    }
   ],
   "source": [
    "new_val = max((max(compra[key]) for key in compra))\n",
    "print(new_val)\n"
   ]
  }
 ],
 "metadata": {
  "kernelspec": {
   "display_name": "Python 3 (ipykernel)",
   "language": "python",
   "name": "python3"
  },
  "language_info": {
   "codemirror_mode": {
    "name": "ipython",
    "version": 3
   },
   "file_extension": ".py",
   "mimetype": "text/x-python",
   "name": "python",
   "nbconvert_exporter": "python",
   "pygments_lexer": "ipython3",
   "version": "3.9.12"
  }
 },
 "nbformat": 4,
 "nbformat_minor": 5
}
